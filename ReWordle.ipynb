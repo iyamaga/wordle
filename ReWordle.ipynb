{
 "cells": [
  {
   "cell_type": "code",
   "execution_count": 1,
   "metadata": {},
   "outputs": [],
   "source": [
    "#!/usr/bin/env python\n",
    "'''\n",
    "    ReWordle\n",
    "    2022/6/28 Ayakosan\n",
    "\n",
    "    word search for WORDLE\n",
    "'''\n",
    "import re\n",
    "import sqlite3\n",
    "import os, sys\n",
    "\n",
    "class edic:\n",
    "    ''' read words from dic '''\n",
    "    ### https://github.com/kujirahand/EJDict\n",
    "    dbname = './ejdic-hand-sqlite/ejdict.sqlite3'\n",
    "\n",
    "    def __init__(self):\n",
    "        if not os.path.exists(self.dbname):\n",
    "            print('dic file not found', self.dbname)\n",
    "            sys.exit(0)\n",
    "        self.conn = sqlite3.connect(self.dbname)\n",
    "\n",
    "    def accessAll(self, l=5):\n",
    "        cur = self.conn.cursor()\n",
    "        cur.execute('SELECT * FROM items')\n",
    "        #n = 0\n",
    "        d = []\n",
    "        for a in cur.fetchall():\n",
    "            if len(a[1]) == 5:\n",
    "                d.append(a[1])\n",
    "                #print(a[1])\n",
    "                #n = n + 1\n",
    "\n",
    "        cur.close()\n",
    "\n",
    "        return d\n",
    "\n",
    "    def close(self):\n",
    "        self.conn.close()\n",
    "\n",
    "class edic2:\n",
    "    ''' read words from dic '''\n",
    "    ### http://www.mieliestronk.com/wordlist.html\n",
    "    dbname = './corncob_lowercase.txt'\n",
    "\n",
    "    def __init__(self):\n",
    "        if not os.path.exists(self.dbname):\n",
    "            print('dic file not found', self.dbname)\n",
    "            sys.exit(0)\n",
    "\n",
    "    def accessAll(self, l=5):\n",
    "        d = []\n",
    "        n = 0\n",
    "        with open(self.dbname) as f:\n",
    "            for w in f.readlines():\n",
    "                n = n + 1\n",
    "                w = w.strip()\n",
    "                if len(w) == l:\n",
    "                    d.append(w)\n",
    "        # print(n)\n",
    "        return d\n",
    "\n",
    "def wordle_search(rex = ('^ab', 't$', 'o', 't', 'R'), debug_ = False):\n",
    "    dic = edic2()\n",
    "    w5 = dic.accessAll()\n",
    "\n",
    "    for x in rex:\n",
    "        if x.startswith('-d'):\n",
    "            debug_ = True\n",
    "            print('--- debug on')\n",
    "            continue\n",
    "        if x.startswith('-D'):\n",
    "            debug_ = False\n",
    "            print('--- debug off')\n",
    "            continue\n",
    "\n",
    "        sw = True\n",
    "        if x.isupper():\n",
    "            sw = False\n",
    "        prog = re.compile(x, re.IGNORECASE)\n",
    "\n",
    "        n = 0\n",
    "        w = []\n",
    "        for s in w5:\n",
    "            ret = prog.search(s)\n",
    "\n",
    "            if sw:\n",
    "                if ret:\n",
    "                    w.append(s)\n",
    "                    n = n + 1\n",
    "            else:\n",
    "                if ret is None:\n",
    "                    w.append(s)\n",
    "                    n = n + 1\n",
    "        w5 = w\n",
    "\n",
    "        if debug_:\n",
    "            if n < 10:\n",
    "                print(x, n, w5)\n",
    "            else:\n",
    "                print(x, n)\n",
    "    return w5"
   ]
  },
  {
   "cell_type": "markdown",
   "metadata": {},
   "source": [
    "# Instant Run\n",
    "Please modify list below on this source code"
   ]
  },
  {
   "cell_type": "code",
   "execution_count": 3,
   "metadata": {},
   "outputs": [
    {
     "name": "stdout",
     "output_type": "stream",
     "text": [
      "$ wordle_search([-d W A U I -D d o r l])\n",
      "--- debug on\n",
      "W 3898\n",
      "A 2336\n",
      "U 1728\n",
      "I 997\n",
      "--- debug off\n",
      "['droll', 'drool', 'lords', 'older']\n"
     ]
    }
   ],
   "source": [
    "rex = ['-d', 'W', 'A', 'U', 'I', '-D', 'd', 'o', 'r', 'l']\n",
    "print('$ wordle_search([' + ' '.join(rex) + '])')\n",
    "print(wordle_search(rex))"
   ]
  }
 ],
 "metadata": {
  "kernelspec": {
   "display_name": "Python 3.7.6 ('ac37')",
   "language": "python",
   "name": "python3"
  },
  "language_info": {
   "codemirror_mode": {
    "name": "ipython",
    "version": 3
   },
   "file_extension": ".py",
   "mimetype": "text/x-python",
   "name": "python",
   "nbconvert_exporter": "python",
   "pygments_lexer": "ipython3",
   "version": "3.7.6"
  },
  "orig_nbformat": 4,
  "vscode": {
   "interpreter": {
    "hash": "8b9d1506a81d48f83d9faf4f6756de2e29d36f0ce87268ac1adf4b6ab76bf9eb"
   }
  }
 },
 "nbformat": 4,
 "nbformat_minor": 2
}
